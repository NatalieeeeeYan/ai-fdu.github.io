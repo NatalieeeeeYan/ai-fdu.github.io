{
  "nbformat": 4,
  "nbformat_minor": 0,
  "metadata": {
    "colab": {
      "provenance": [],
      "gpuType": "T4",
      "authorship_tag": "ABX9TyMGl3qm20jKk1jfEod4hFqu",
      "include_colab_link": true
    },
    "kernelspec": {
      "name": "python3",
      "display_name": "Python 3"
    },
    "language_info": {
      "name": "python"
    },
    "accelerator": "GPU"
  },
  "cells": [
    {
      "cell_type": "markdown",
      "metadata": {
        "id": "view-in-github",
        "colab_type": "text"
      },
      "source": [
        "<a href=\"https://colab.research.google.com/github/NatalieeeeeYan/ai-fdu.github.io/blob/main/CNN_Image_Classification.ipynb\" target=\"_parent\"><img src=\"https://colab.research.google.com/assets/colab-badge.svg\" alt=\"Open In Colab\"/></a>"
      ]
    },
    {
      "cell_type": "code",
      "source": [
        "# Importing Libraries\n",
        "import torch\n",
        "import torchvision\n",
        "import torchvision.transforms as transforms\n",
        "from torchsummary import summary\n",
        "import torch.nn as nn\n",
        "import torch.nn.functional as F\n",
        "import torch.optim as optim\n",
        "from torch.optim.lr_scheduler import StepLR, ReduceLROnPlateau\n",
        "import numpy as np\n",
        "import matplotlib.pyplot as plt\n",
        "from torchvision import datasets\n",
        "from torchvision import transforms\n",
        "import os\n",
        "from tqdm import tqdm\n",
        "\n",
        "\n",
        "#Define the model, here we take resnet-18 as an example\n",
        "\n",
        "class BasicBlock(nn.Module):\n",
        "    expansion = 1\n",
        "\n",
        "\n",
        "    def __init__(self, in_planes, planes, stride=1):\n",
        "        super(BasicBlock, self).__init__()\n",
        "\n",
        "        DROPOUT = 0.1\n",
        "\n",
        "        self.conv1 = nn.Conv2d(\n",
        "            in_planes, planes, kernel_size=3, stride=stride, padding=1, bias=False)\n",
        "        self.bn1 = nn.BatchNorm2d(planes)\n",
        "        self.dropout = nn.Dropout(DROPOUT)\n",
        "        self.conv2 = nn.Conv2d(planes, planes, kernel_size=3,\n",
        "                               stride=1, padding=1, bias=False)\n",
        "        self.bn2 = nn.BatchNorm2d(planes)\n",
        "        self.dropout = nn.Dropout(DROPOUT)\n",
        "\n",
        "        self.shortcut = nn.Sequential()\n",
        "        if stride != 1 or in_planes != self.expansion*planes:\n",
        "            self.shortcut = nn.Sequential(\n",
        "                nn.Conv2d(in_planes, self.expansion*planes,\n",
        "                          kernel_size=1, stride=stride, bias=False),\n",
        "                nn.BatchNorm2d(self.expansion*planes),\n",
        "                nn.Dropout(DROPOUT)\n",
        "            )\n",
        "\n",
        "    def forward(self, x):\n",
        "        out = F.relu(self.dropout(self.bn1(self.conv1(x))))\n",
        "        out = self.dropout(self.bn2(self.conv2(out)))\n",
        "        out += self.shortcut(x)\n",
        "        out = F.relu(out)\n",
        "        return out\n",
        "\n",
        "\n",
        "class ResNet(nn.Module):\n",
        "    def __init__(self, block, num_blocks, num_classes=10):\n",
        "        super(ResNet, self).__init__()\n",
        "        self.in_planes = 64\n",
        "\n",
        "        self.conv1 = nn.Conv2d(3, 64, kernel_size=3,\n",
        "                               stride=1, padding=1, bias=False)\n",
        "        self.bn1 = nn.BatchNorm2d(64)\n",
        "        self.layer1 = self._make_layer(block, 64, num_blocks[0], stride=1)\n",
        "        self.layer2 = self._make_layer(block, 128, num_blocks[1], stride=2)\n",
        "        self.layer3 = self._make_layer(block, 256, num_blocks[2], stride=2)\n",
        "        self.layer4 = self._make_layer(block, 512, num_blocks[3], stride=2)\n",
        "        self.linear = nn.Linear(512*block.expansion, num_classes)\n",
        "\n",
        "    def _make_layer(self, block, planes, num_blocks, stride):\n",
        "        strides = [stride] + [1]*(num_blocks-1)\n",
        "        layers = []\n",
        "        for stride in strides:\n",
        "            layers.append(block(self.in_planes, planes, stride))\n",
        "            self.in_planes = planes * block.expansion\n",
        "        return nn.Sequential(*layers)\n",
        "\n",
        "    def forward(self, x):\n",
        "        out = F.relu(self.bn1(self.conv1(x)))\n",
        "        out = self.layer1(out)\n",
        "        out = self.layer2(out)\n",
        "        out = self.layer3(out)\n",
        "        out = self.layer4(out)\n",
        "        out = F.avg_pool2d(out, 4)\n",
        "        out = out.view(out.size(0), -1)\n",
        "        out = self.linear(out)\n",
        "        return F.log_softmax(out, dim=-1)\n",
        "\n",
        "\n",
        "def design_model():\n",
        "    return ResNet(BasicBlock, [2, 2, 2, 2])\n",
        "\n",
        "\n",
        "\n",
        "\n",
        "#训练代码\n",
        "\n",
        "def model_training(model, device, train_dataloader, optimizer, train_acc, train_losses):\n",
        "\n",
        "    model.train()\n",
        "    pbar = tqdm(train_dataloader)\n",
        "    correct = 0\n",
        "    processed = 0\n",
        "    running_loss = 0.0\n",
        "\n",
        "    for batch_idx, (data, target) in enumerate(pbar):\n",
        "        data, target = data.to(device), target.to(device)\n",
        "        #TODO,补全代码,填在下方\n",
        "\n",
        "        #补全内容:optimizer的操作，获取模型输出，loss设计与计算，反向传播\n",
        "        optimizer.zero_grad()  # 清空梯度\n",
        "        y_pred = model(data)  # 获取模型输出\n",
        "        loss = F.nll_loss(y_pred, target)  # loss设计与计算\n",
        "        loss.backward()  # 反向传播\n",
        "        optimizer.step()  # 更新权重\n",
        "\n",
        "        #TODO,补全代码,填在上方\n",
        "\n",
        "        train_losses.append(loss.item())\n",
        "        pred = y_pred.argmax(dim=1, keepdim=True)\n",
        "        correct += pred.eq(target.view_as(pred)).sum().item()\n",
        "        processed += len(data)\n",
        "        # print statistics\n",
        "        running_loss += loss.item()\n",
        "        pbar.set_description(desc=f'Loss={loss.item()} Batch_id={batch_idx} Accuracy={100*correct/processed:0.2f}')\n",
        "        train_acc.append(100*correct/processed)\n",
        "\n",
        "\n",
        "#验证代码\n",
        "\n",
        "def model_testing(model, device, test_dataloader, test_acc, test_losses, misclassified = []):\n",
        "\n",
        "    model.eval()\n",
        "    test_loss = 0\n",
        "    correct = 0\n",
        "\n",
        "    with torch.no_grad():\n",
        "\n",
        "        for index, (data, target) in enumerate(test_dataloader):\n",
        "            data, target = data.to(device), target.to(device)\n",
        "\n",
        "            #TODO,补全代码,填在下方\n",
        "\n",
        "            #补全内容:获取模型输出，loss计算\n",
        "            output = model(data)  # 获取模型输出\n",
        "            test_loss += F.nll_loss(output, target, reduction='sum').item()  # loss计算\n",
        "\n",
        "            #TODO,补全代码,填在上方\n",
        "\n",
        "            pred = output.argmax(dim=1, keepdim=True)\n",
        "            correct += pred.eq(target.view_as(pred)).sum().item()\n",
        "    test_loss /= len(test_dataloader.dataset)\n",
        "    test_losses.append(test_loss)\n",
        "\n",
        "    print('\\nTest set: Average loss: {:.4f}, Accuracy: {}/{} ({:.2f}%)\\n'.format(\n",
        "        test_loss, correct, len(test_dataloader.dataset),\n",
        "        100. * correct / len(test_dataloader.dataset)))\n",
        "\n",
        "    test_acc.append(100. * correct / len(test_dataloader.dataset))\n",
        "\n",
        "\n",
        "def main():\n",
        "    device = \"cuda\" if torch.cuda.is_available else \"cpu\"\n",
        "    print(device)\n",
        "\n",
        "\n",
        "    #prepare datasets and transforms\n",
        "    train_transforms = transforms.Compose([\n",
        "            # TODO,设计针对训练数据集的图像增强\n",
        "            transforms.RandomRotation(10),  # 随机旋转\n",
        "            transforms.RandomHorizontalFlip(),  # 随机水平翻转\n",
        "            transforms.ColorJitter(brightness=0.1, contrast=0.1, saturation=0.1, hue=0.1),  # 随机颜色变换\n",
        "            # end-todo\n",
        "            transforms.ToTensor(), # comvert the image to tensor so that it can work with torch\n",
        "            transforms.Normalize((0.491, 0.482, 0.446), (0.247, 0.243, 0.261)) #Normalize all the images\n",
        "            ])\n",
        "    test_transforms = transforms.Compose([\n",
        "            transforms.ToTensor(),\n",
        "            transforms.Normalize((0.491, 0.482, 0.446), (0.247, 0.243, 0.261))\n",
        "        ])\n",
        "\n",
        "    data_dir = './data'\n",
        "    trainset = datasets.CIFAR10(data_dir, train=True, download=True, transform=train_transforms)\n",
        "    testset = datasets.CIFAR10(data_dir, train=False, download=True, transform=test_transforms)\n",
        "\n",
        "    trainloader = torch.utils.data.DataLoader(trainset, batch_size=512,\n",
        "                                            shuffle=True, num_workers=4)\n",
        "    testloader = torch.utils.data.DataLoader(testset, batch_size=512,\n",
        "                                            shuffle=False, num_workers=4)\n",
        "\n",
        "\n",
        "    # Importing Model and printing Summary,默认是ResNet-18\n",
        "    # TODO,分析讨论其他的CNN网络设计\n",
        "\n",
        "    model = design_model().to(device)\n",
        "    summary(model, input_size=(3,32,32))\n",
        "\n",
        "    # Training the model\n",
        "\n",
        "    optimizer = optim.SGD(model.parameters(), lr=0.01, momentum=0.9)\n",
        "    scheduler = ReduceLROnPlateau(optimizer, mode='min', factor=0.05, patience=2, threshold=0.0001, threshold_mode='rel', cooldown=0, min_lr=0, eps=1e-08, verbose=True)\n",
        "\n",
        "\n",
        "    train_acc = []\n",
        "    train_losses = []\n",
        "    test_acc = []\n",
        "    test_losses = []\n",
        "    model_path = './checkpoints'\n",
        "    os.makedirs(model_path,exist_ok=True)\n",
        "\n",
        "    EPOCHS = 40\n",
        "\n",
        "    for i in range(EPOCHS):\n",
        "        print(f'EPOCHS : {i}')\n",
        "        #TODO,补全model_training里的代码\n",
        "        model_training(model, device, trainloader, optimizer, train_acc, train_losses)\n",
        "        scheduler.step(train_losses[-1])\n",
        "        #TODO,补全model_testing里的代码\n",
        "        model_testing(model, device, testloader, test_acc, test_losses)\n",
        "\n",
        "        # 保存模型权重\n",
        "        torch.save(model.state_dict(), os.path.join(model_path,'model.pth'))\n",
        "\n",
        "\n",
        "    fig, axs = plt.subplots(2,2, figsize=(25,20))\n",
        "\n",
        "    axs[0,0].set_title('Train Losses')\n",
        "    axs[0,1].set_title(f'Training Accuracy (Max: {max(train_acc):.2f})')\n",
        "    axs[1,0].set_title('Test Losses')\n",
        "    axs[1, 1].set_title(f'Test Accuracy (Max: {max(test_acc):.2f})')\n",
        "\n",
        "    axs[0,0].plot(train_losses)\n",
        "    axs[0,1].plot(train_acc)\n",
        "    axs[1,0].plot(test_losses)\n",
        "    axs[1,1].plot(test_acc)\n",
        "\n",
        "    # 保存图像\n",
        "    plt.savefig('curves.png')  # 保存为名为 'plot.png' 的图片文件\n",
        "\n",
        "\n",
        "\n",
        "if __name__ == '__main__':\n",
        "    main()"
      ],
      "metadata": {
        "colab": {
          "base_uri": "https://localhost:8080/",
          "height": 1000
        },
        "id": "_S6EQYBYUUlS",
        "outputId": "63a12460-8f19-4546-b88f-f9bec87e8bf7"
      },
      "execution_count": 4,
      "outputs": [
        {
          "output_type": "stream",
          "name": "stdout",
          "text": [
            "Files already downloaded and verified\n",
            "----------------------------------------------------------------\n",
            "        Layer (type)               Output Shape         Param #\n",
            "================================================================\n",
            "            Conv2d-1           [-1, 64, 32, 32]           1,728\n",
            "       BatchNorm2d-2           [-1, 64, 32, 32]             128\n",
            "            Conv2d-3           [-1, 64, 32, 32]          36,864\n",
            "       BatchNorm2d-4           [-1, 64, 32, 32]             128\n",
            "           Dropout-5           [-1, 64, 32, 32]               0\n",
            "            Conv2d-6           [-1, 64, 32, 32]          36,864\n",
            "       BatchNorm2d-7           [-1, 64, 32, 32]             128\n",
            "           Dropout-8           [-1, 64, 32, 32]               0\n",
            "        BasicBlock-9           [-1, 64, 32, 32]               0\n",
            "           Conv2d-10           [-1, 64, 32, 32]          36,864\n",
            "      BatchNorm2d-11           [-1, 64, 32, 32]             128\n",
            "          Dropout-12           [-1, 64, 32, 32]               0\n",
            "           Conv2d-13           [-1, 64, 32, 32]          36,864\n",
            "      BatchNorm2d-14           [-1, 64, 32, 32]             128\n",
            "          Dropout-15           [-1, 64, 32, 32]               0\n",
            "       BasicBlock-16           [-1, 64, 32, 32]               0\n",
            "           Conv2d-17          [-1, 128, 16, 16]          73,728\n",
            "      BatchNorm2d-18          [-1, 128, 16, 16]             256\n",
            "          Dropout-19          [-1, 128, 16, 16]               0\n",
            "           Conv2d-20          [-1, 128, 16, 16]         147,456\n",
            "      BatchNorm2d-21          [-1, 128, 16, 16]             256\n",
            "          Dropout-22          [-1, 128, 16, 16]               0\n",
            "           Conv2d-23          [-1, 128, 16, 16]           8,192\n",
            "      BatchNorm2d-24          [-1, 128, 16, 16]             256\n",
            "          Dropout-25          [-1, 128, 16, 16]               0\n",
            "       BasicBlock-26          [-1, 128, 16, 16]               0\n",
            "           Conv2d-27          [-1, 128, 16, 16]         147,456\n",
            "      BatchNorm2d-28          [-1, 128, 16, 16]             256\n",
            "          Dropout-29          [-1, 128, 16, 16]               0\n",
            "           Conv2d-30          [-1, 128, 16, 16]         147,456\n",
            "      BatchNorm2d-31          [-1, 128, 16, 16]             256\n",
            "          Dropout-32          [-1, 128, 16, 16]               0\n",
            "       BasicBlock-33          [-1, 128, 16, 16]               0\n",
            "           Conv2d-34            [-1, 256, 8, 8]         294,912\n",
            "      BatchNorm2d-35            [-1, 256, 8, 8]             512\n",
            "          Dropout-36            [-1, 256, 8, 8]               0\n",
            "           Conv2d-37            [-1, 256, 8, 8]         589,824\n",
            "      BatchNorm2d-38            [-1, 256, 8, 8]             512\n",
            "          Dropout-39            [-1, 256, 8, 8]               0\n",
            "           Conv2d-40            [-1, 256, 8, 8]          32,768\n",
            "      BatchNorm2d-41            [-1, 256, 8, 8]             512\n",
            "          Dropout-42            [-1, 256, 8, 8]               0\n",
            "       BasicBlock-43            [-1, 256, 8, 8]               0\n",
            "           Conv2d-44            [-1, 256, 8, 8]         589,824\n",
            "      BatchNorm2d-45            [-1, 256, 8, 8]             512\n",
            "          Dropout-46            [-1, 256, 8, 8]               0\n",
            "           Conv2d-47            [-1, 256, 8, 8]         589,824\n",
            "      BatchNorm2d-48            [-1, 256, 8, 8]             512\n",
            "          Dropout-49            [-1, 256, 8, 8]               0\n",
            "       BasicBlock-50            [-1, 256, 8, 8]               0\n",
            "           Conv2d-51            [-1, 512, 4, 4]       1,179,648\n",
            "      BatchNorm2d-52            [-1, 512, 4, 4]           1,024\n",
            "          Dropout-53            [-1, 512, 4, 4]               0\n",
            "           Conv2d-54            [-1, 512, 4, 4]       2,359,296\n",
            "      BatchNorm2d-55            [-1, 512, 4, 4]           1,024\n",
            "          Dropout-56            [-1, 512, 4, 4]               0\n",
            "           Conv2d-57            [-1, 512, 4, 4]         131,072\n",
            "      BatchNorm2d-58            [-1, 512, 4, 4]           1,024\n",
            "          Dropout-59            [-1, 512, 4, 4]               0\n",
            "       BasicBlock-60            [-1, 512, 4, 4]               0\n",
            "           Conv2d-61            [-1, 512, 4, 4]       2,359,296\n",
            "      BatchNorm2d-62            [-1, 512, 4, 4]           1,024\n",
            "          Dropout-63            [-1, 512, 4, 4]               0\n",
            "           Conv2d-64            [-1, 512, 4, 4]       2,359,296\n",
            "      BatchNorm2d-65            [-1, 512, 4, 4]           1,024\n",
            "          Dropout-66            [-1, 512, 4, 4]               0\n",
            "       BasicBlock-67            [-1, 512, 4, 4]               0\n",
            "           Linear-68                   [-1, 10]           5,130\n",
            "================================================================\n",
            "Total params: 11,173,962\n",
            "Trainable params: 11,173,962\n",
            "Non-trainable params: 0\n",
            "----------------------------------------------------------------\n",
            "Input size (MB): 0.01\n",
            "Forward/backward pass size (MB): 15.44\n",
            "Params size (MB): 42.63\n",
            "Estimated Total Size (MB): 58.07\n",
            "----------------------------------------------------------------\n",
            "EPOCHS : 0\n"
          ]
        },
        {
          "output_type": "stream",
          "name": "stderr",
          "text": [
            "Loss=1.3876869678497314 Batch_id=97 Accuracy=37.37: 100%|██████████| 98/98 [00:53<00:00,  1.82it/s]\n"
          ]
        },
        {
          "output_type": "stream",
          "name": "stdout",
          "text": [
            "\n",
            "Test set: Average loss: 1.3744, Accuracy: 5014/10000 (50.14%)\n",
            "\n",
            "EPOCHS : 1\n"
          ]
        },
        {
          "output_type": "stream",
          "name": "stderr",
          "text": [
            "Loss=1.0260151624679565 Batch_id=97 Accuracy=56.33: 100%|██████████| 98/98 [00:52<00:00,  1.85it/s]\n"
          ]
        },
        {
          "output_type": "stream",
          "name": "stdout",
          "text": [
            "\n",
            "Test set: Average loss: 1.0823, Accuracy: 6215/10000 (62.15%)\n",
            "\n",
            "EPOCHS : 2\n"
          ]
        },
        {
          "output_type": "stream",
          "name": "stderr",
          "text": [
            "Loss=0.8070662617683411 Batch_id=97 Accuracy=64.96: 100%|██████████| 98/98 [00:52<00:00,  1.87it/s]\n"
          ]
        },
        {
          "output_type": "stream",
          "name": "stdout",
          "text": [
            "\n",
            "Test set: Average loss: 0.9885, Accuracy: 6652/10000 (66.52%)\n",
            "\n",
            "EPOCHS : 3\n"
          ]
        },
        {
          "output_type": "stream",
          "name": "stderr",
          "text": [
            "Loss=0.8467180132865906 Batch_id=97 Accuracy=70.18: 100%|██████████| 98/98 [00:52<00:00,  1.87it/s]\n"
          ]
        },
        {
          "output_type": "stream",
          "name": "stdout",
          "text": [
            "\n",
            "Test set: Average loss: 0.8561, Accuracy: 7042/10000 (70.42%)\n",
            "\n",
            "EPOCHS : 4\n"
          ]
        },
        {
          "output_type": "stream",
          "name": "stderr",
          "text": [
            "Loss=0.7014143466949463 Batch_id=97 Accuracy=73.79: 100%|██████████| 98/98 [00:51<00:00,  1.92it/s]\n"
          ]
        },
        {
          "output_type": "stream",
          "name": "stdout",
          "text": [
            "\n",
            "Test set: Average loss: 0.7636, Accuracy: 7450/10000 (74.50%)\n",
            "\n",
            "EPOCHS : 5\n"
          ]
        },
        {
          "output_type": "stream",
          "name": "stderr",
          "text": [
            "Loss=0.6225014925003052 Batch_id=97 Accuracy=76.55: 100%|██████████| 98/98 [00:53<00:00,  1.83it/s]\n"
          ]
        },
        {
          "output_type": "stream",
          "name": "stdout",
          "text": [
            "\n",
            "Test set: Average loss: 0.8054, Accuracy: 7372/10000 (73.72%)\n",
            "\n",
            "EPOCHS : 6\n"
          ]
        },
        {
          "output_type": "stream",
          "name": "stderr",
          "text": [
            "Loss=0.5543813109397888 Batch_id=97 Accuracy=78.40: 100%|██████████| 98/98 [00:53<00:00,  1.85it/s]\n"
          ]
        },
        {
          "output_type": "stream",
          "name": "stdout",
          "text": [
            "\n",
            "Test set: Average loss: 0.5822, Accuracy: 8037/10000 (80.37%)\n",
            "\n",
            "EPOCHS : 7\n"
          ]
        },
        {
          "output_type": "stream",
          "name": "stderr",
          "text": [
            "Loss=0.5121445655822754 Batch_id=97 Accuracy=80.27: 100%|██████████| 98/98 [00:52<00:00,  1.86it/s]\n"
          ]
        },
        {
          "output_type": "stream",
          "name": "stdout",
          "text": [
            "\n",
            "Test set: Average loss: 0.6161, Accuracy: 7942/10000 (79.42%)\n",
            "\n",
            "EPOCHS : 8\n"
          ]
        },
        {
          "output_type": "stream",
          "name": "stderr",
          "text": [
            "Loss=0.5315983891487122 Batch_id=97 Accuracy=81.71: 100%|██████████| 98/98 [00:52<00:00,  1.87it/s]\n"
          ]
        },
        {
          "output_type": "stream",
          "name": "stdout",
          "text": [
            "\n",
            "Test set: Average loss: 0.5661, Accuracy: 8097/10000 (80.97%)\n",
            "\n",
            "EPOCHS : 9\n"
          ]
        },
        {
          "output_type": "stream",
          "name": "stderr",
          "text": [
            "Loss=0.5053526759147644 Batch_id=97 Accuracy=82.21: 100%|██████████| 98/98 [00:52<00:00,  1.85it/s]\n"
          ]
        },
        {
          "output_type": "stream",
          "name": "stdout",
          "text": [
            "\n",
            "Test set: Average loss: 0.5061, Accuracy: 8303/10000 (83.03%)\n",
            "\n",
            "EPOCHS : 10\n"
          ]
        },
        {
          "output_type": "stream",
          "name": "stderr",
          "text": [
            "Loss=0.5734231472015381 Batch_id=97 Accuracy=83.33: 100%|██████████| 98/98 [00:52<00:00,  1.86it/s]\n"
          ]
        },
        {
          "output_type": "stream",
          "name": "stdout",
          "text": [
            "\n",
            "Test set: Average loss: 0.5092, Accuracy: 8339/10000 (83.39%)\n",
            "\n",
            "EPOCHS : 11\n"
          ]
        },
        {
          "output_type": "stream",
          "name": "stderr",
          "text": [
            "Loss=0.5145806074142456 Batch_id=97 Accuracy=84.42: 100%|██████████| 98/98 [00:52<00:00,  1.88it/s]\n"
          ]
        },
        {
          "output_type": "stream",
          "name": "stdout",
          "text": [
            "\n",
            "Test set: Average loss: 0.5219, Accuracy: 8299/10000 (82.99%)\n",
            "\n",
            "EPOCHS : 12\n"
          ]
        },
        {
          "output_type": "stream",
          "name": "stderr",
          "text": [
            "Loss=0.37149184942245483 Batch_id=97 Accuracy=85.19: 100%|██████████| 98/98 [00:51<00:00,  1.89it/s]\n"
          ]
        },
        {
          "output_type": "stream",
          "name": "stdout",
          "text": [
            "\n",
            "Test set: Average loss: 0.4489, Accuracy: 8522/10000 (85.22%)\n",
            "\n",
            "EPOCHS : 13\n"
          ]
        },
        {
          "output_type": "stream",
          "name": "stderr",
          "text": [
            "Loss=0.4376637637615204 Batch_id=97 Accuracy=85.82: 100%|██████████| 98/98 [00:52<00:00,  1.86it/s]\n"
          ]
        },
        {
          "output_type": "stream",
          "name": "stdout",
          "text": [
            "\n",
            "Test set: Average loss: 0.4828, Accuracy: 8446/10000 (84.46%)\n",
            "\n",
            "EPOCHS : 14\n"
          ]
        },
        {
          "output_type": "stream",
          "name": "stderr",
          "text": [
            "Loss=0.48694342374801636 Batch_id=97 Accuracy=86.41: 100%|██████████| 98/98 [00:51<00:00,  1.89it/s]\n"
          ]
        },
        {
          "output_type": "stream",
          "name": "stdout",
          "text": [
            "\n",
            "Test set: Average loss: 0.4738, Accuracy: 8442/10000 (84.42%)\n",
            "\n",
            "EPOCHS : 15\n"
          ]
        },
        {
          "output_type": "stream",
          "name": "stderr",
          "text": [
            "Loss=0.44228920340538025 Batch_id=97 Accuracy=87.19: 100%|██████████| 98/98 [00:51<00:00,  1.91it/s]\n"
          ]
        },
        {
          "output_type": "stream",
          "name": "stdout",
          "text": [
            "\n",
            "Test set: Average loss: 0.4605, Accuracy: 8544/10000 (85.44%)\n",
            "\n",
            "EPOCHS : 16\n"
          ]
        },
        {
          "output_type": "stream",
          "name": "stderr",
          "text": [
            "Loss=0.3582766652107239 Batch_id=97 Accuracy=89.32: 100%|██████████| 98/98 [00:51<00:00,  1.90it/s]\n"
          ]
        },
        {
          "output_type": "stream",
          "name": "stdout",
          "text": [
            "\n",
            "Test set: Average loss: 0.3725, Accuracy: 8779/10000 (87.79%)\n",
            "\n",
            "EPOCHS : 17\n"
          ]
        },
        {
          "output_type": "stream",
          "name": "stderr",
          "text": [
            "Loss=0.2567386031150818 Batch_id=97 Accuracy=90.15: 100%|██████████| 98/98 [00:51<00:00,  1.91it/s]\n"
          ]
        },
        {
          "output_type": "stream",
          "name": "stdout",
          "text": [
            "\n",
            "Test set: Average loss: 0.3718, Accuracy: 8772/10000 (87.72%)\n",
            "\n",
            "EPOCHS : 18\n"
          ]
        },
        {
          "output_type": "stream",
          "name": "stderr",
          "text": [
            "Loss=0.30703702569007874 Batch_id=97 Accuracy=90.32: 100%|██████████| 98/98 [00:50<00:00,  1.92it/s]\n"
          ]
        },
        {
          "output_type": "stream",
          "name": "stdout",
          "text": [
            "\n",
            "Test set: Average loss: 0.3655, Accuracy: 8792/10000 (87.92%)\n",
            "\n",
            "EPOCHS : 19\n"
          ]
        },
        {
          "output_type": "stream",
          "name": "stderr",
          "text": [
            "Loss=0.2614377439022064 Batch_id=97 Accuracy=90.50: 100%|██████████| 98/98 [00:52<00:00,  1.86it/s]\n"
          ]
        },
        {
          "output_type": "stream",
          "name": "stdout",
          "text": [
            "\n",
            "Test set: Average loss: 0.3653, Accuracy: 8811/10000 (88.11%)\n",
            "\n",
            "EPOCHS : 20\n"
          ]
        },
        {
          "output_type": "stream",
          "name": "stderr",
          "text": [
            "Loss=0.294901967048645 Batch_id=97 Accuracy=90.49: 100%|██████████| 98/98 [00:52<00:00,  1.87it/s]\n"
          ]
        },
        {
          "output_type": "stream",
          "name": "stdout",
          "text": [
            "\n",
            "Test set: Average loss: 0.3627, Accuracy: 8813/10000 (88.13%)\n",
            "\n",
            "EPOCHS : 21\n"
          ]
        },
        {
          "output_type": "stream",
          "name": "stderr",
          "text": [
            "Loss=0.2534221112728119 Batch_id=97 Accuracy=90.75: 100%|██████████| 98/98 [00:51<00:00,  1.89it/s]\n"
          ]
        },
        {
          "output_type": "stream",
          "name": "stdout",
          "text": [
            "\n",
            "Test set: Average loss: 0.3631, Accuracy: 8813/10000 (88.13%)\n",
            "\n",
            "EPOCHS : 22\n"
          ]
        },
        {
          "output_type": "stream",
          "name": "stderr",
          "text": [
            "Loss=0.2102898806333542 Batch_id=97 Accuracy=90.94: 100%|██████████| 98/98 [00:51<00:00,  1.90it/s]\n"
          ]
        },
        {
          "output_type": "stream",
          "name": "stdout",
          "text": [
            "\n",
            "Test set: Average loss: 0.3629, Accuracy: 8818/10000 (88.18%)\n",
            "\n",
            "EPOCHS : 23\n"
          ]
        },
        {
          "output_type": "stream",
          "name": "stderr",
          "text": [
            "Loss=0.22503657639026642 Batch_id=97 Accuracy=90.62: 100%|██████████| 98/98 [00:52<00:00,  1.86it/s]\n"
          ]
        },
        {
          "output_type": "stream",
          "name": "stdout",
          "text": [
            "\n",
            "Test set: Average loss: 0.3633, Accuracy: 8823/10000 (88.23%)\n",
            "\n",
            "EPOCHS : 24\n"
          ]
        },
        {
          "output_type": "stream",
          "name": "stderr",
          "text": [
            "Loss=0.3135393559932709 Batch_id=97 Accuracy=90.53: 100%|██████████| 98/98 [00:51<00:00,  1.91it/s]\n"
          ]
        },
        {
          "output_type": "stream",
          "name": "stdout",
          "text": [
            "\n",
            "Test set: Average loss: 0.3639, Accuracy: 8819/10000 (88.19%)\n",
            "\n",
            "EPOCHS : 25\n"
          ]
        },
        {
          "output_type": "stream",
          "name": "stderr",
          "text": [
            "Loss=0.25898322463035583 Batch_id=97 Accuracy=90.78: 100%|██████████| 98/98 [00:51<00:00,  1.90it/s]\n"
          ]
        },
        {
          "output_type": "stream",
          "name": "stdout",
          "text": [
            "\n",
            "Test set: Average loss: 0.3626, Accuracy: 8821/10000 (88.21%)\n",
            "\n",
            "EPOCHS : 26\n"
          ]
        },
        {
          "output_type": "stream",
          "name": "stderr",
          "text": [
            "Loss=0.28573110699653625 Batch_id=97 Accuracy=90.92: 100%|██████████| 98/98 [00:51<00:00,  1.90it/s]\n"
          ]
        },
        {
          "output_type": "stream",
          "name": "stdout",
          "text": [
            "\n",
            "Test set: Average loss: 0.3628, Accuracy: 8821/10000 (88.21%)\n",
            "\n",
            "EPOCHS : 27\n"
          ]
        },
        {
          "output_type": "stream",
          "name": "stderr",
          "text": [
            "Loss=0.2570844888687134 Batch_id=97 Accuracy=90.78: 100%|██████████| 98/98 [00:51<00:00,  1.90it/s]\n"
          ]
        },
        {
          "output_type": "stream",
          "name": "stdout",
          "text": [
            "\n",
            "Test set: Average loss: 0.3631, Accuracy: 8826/10000 (88.26%)\n",
            "\n",
            "EPOCHS : 28\n"
          ]
        },
        {
          "output_type": "stream",
          "name": "stderr",
          "text": [
            "Loss=0.20729689300060272 Batch_id=97 Accuracy=90.84: 100%|██████████| 98/98 [00:52<00:00,  1.87it/s]\n"
          ]
        },
        {
          "output_type": "stream",
          "name": "stdout",
          "text": [
            "\n",
            "Test set: Average loss: 0.3636, Accuracy: 8817/10000 (88.17%)\n",
            "\n",
            "EPOCHS : 29\n"
          ]
        },
        {
          "output_type": "stream",
          "name": "stderr",
          "text": [
            "Loss=0.24808219075202942 Batch_id=97 Accuracy=90.84: 100%|██████████| 98/98 [00:51<00:00,  1.89it/s]\n"
          ]
        },
        {
          "output_type": "stream",
          "name": "stdout",
          "text": [
            "\n",
            "Test set: Average loss: 0.3629, Accuracy: 8817/10000 (88.17%)\n",
            "\n",
            "EPOCHS : 30\n"
          ]
        },
        {
          "output_type": "stream",
          "name": "stderr",
          "text": [
            "Loss=0.25325292348861694 Batch_id=97 Accuracy=90.73: 100%|██████████| 98/98 [00:51<00:00,  1.90it/s]\n"
          ]
        },
        {
          "output_type": "stream",
          "name": "stdout",
          "text": [
            "\n",
            "Test set: Average loss: 0.3627, Accuracy: 8825/10000 (88.25%)\n",
            "\n",
            "EPOCHS : 31\n"
          ]
        },
        {
          "output_type": "stream",
          "name": "stderr",
          "text": [
            "Loss=0.21662242710590363 Batch_id=97 Accuracy=90.82: 100%|██████████| 98/98 [00:51<00:00,  1.92it/s]\n"
          ]
        },
        {
          "output_type": "stream",
          "name": "stdout",
          "text": [
            "\n",
            "Test set: Average loss: 0.3629, Accuracy: 8827/10000 (88.27%)\n",
            "\n",
            "EPOCHS : 32\n"
          ]
        },
        {
          "output_type": "stream",
          "name": "stderr",
          "text": [
            "Loss=0.24303190410137177 Batch_id=97 Accuracy=90.80: 100%|██████████| 98/98 [00:51<00:00,  1.89it/s]\n"
          ]
        },
        {
          "output_type": "stream",
          "name": "stdout",
          "text": [
            "\n",
            "Test set: Average loss: 0.3627, Accuracy: 8826/10000 (88.26%)\n",
            "\n",
            "EPOCHS : 33\n"
          ]
        },
        {
          "output_type": "stream",
          "name": "stderr",
          "text": [
            "Loss=0.2619345188140869 Batch_id=97 Accuracy=90.81: 100%|██████████| 98/98 [00:52<00:00,  1.87it/s]\n"
          ]
        },
        {
          "output_type": "stream",
          "name": "stdout",
          "text": [
            "\n",
            "Test set: Average loss: 0.3629, Accuracy: 8822/10000 (88.22%)\n",
            "\n",
            "EPOCHS : 34\n"
          ]
        },
        {
          "output_type": "stream",
          "name": "stderr",
          "text": [
            "Loss=0.33106639981269836 Batch_id=97 Accuracy=90.91: 100%|██████████| 98/98 [00:51<00:00,  1.92it/s]\n"
          ]
        },
        {
          "output_type": "stream",
          "name": "stdout",
          "text": [
            "\n",
            "Test set: Average loss: 0.3635, Accuracy: 8822/10000 (88.22%)\n",
            "\n",
            "EPOCHS : 35\n"
          ]
        },
        {
          "output_type": "stream",
          "name": "stderr",
          "text": [
            "Loss=0.21237164735794067 Batch_id=97 Accuracy=90.71: 100%|██████████| 98/98 [00:51<00:00,  1.90it/s]\n"
          ]
        },
        {
          "output_type": "stream",
          "name": "stdout",
          "text": [
            "\n",
            "Test set: Average loss: 0.3632, Accuracy: 8824/10000 (88.24%)\n",
            "\n",
            "EPOCHS : 36\n"
          ]
        },
        {
          "output_type": "stream",
          "name": "stderr",
          "text": [
            "Loss=0.27727988362312317 Batch_id=97 Accuracy=91.02: 100%|██████████| 98/98 [00:51<00:00,  1.90it/s]\n"
          ]
        },
        {
          "output_type": "stream",
          "name": "stdout",
          "text": [
            "\n",
            "Test set: Average loss: 0.3633, Accuracy: 8824/10000 (88.24%)\n",
            "\n",
            "EPOCHS : 37\n"
          ]
        },
        {
          "output_type": "stream",
          "name": "stderr",
          "text": [
            "Loss=0.35154101252555847 Batch_id=97 Accuracy=90.76: 100%|██████████| 98/98 [00:51<00:00,  1.90it/s]\n"
          ]
        },
        {
          "output_type": "stream",
          "name": "stdout",
          "text": [
            "\n",
            "Test set: Average loss: 0.3631, Accuracy: 8828/10000 (88.28%)\n",
            "\n",
            "EPOCHS : 38\n"
          ]
        },
        {
          "output_type": "stream",
          "name": "stderr",
          "text": [
            "Loss=0.22196701169013977 Batch_id=97 Accuracy=90.83: 100%|██████████| 98/98 [00:52<00:00,  1.86it/s]\n"
          ]
        },
        {
          "output_type": "stream",
          "name": "stdout",
          "text": [
            "\n",
            "Test set: Average loss: 0.3625, Accuracy: 8823/10000 (88.23%)\n",
            "\n",
            "EPOCHS : 39\n"
          ]
        },
        {
          "output_type": "stream",
          "name": "stderr",
          "text": [
            "Loss=0.3114335238933563 Batch_id=97 Accuracy=90.80: 100%|██████████| 98/98 [00:51<00:00,  1.90it/s]\n"
          ]
        },
        {
          "output_type": "stream",
          "name": "stdout",
          "text": [
            "\n",
            "Test set: Average loss: 0.3635, Accuracy: 8827/10000 (88.27%)\n",
            "\n"
          ]
        },
        {
          "output_type": "display_data",
          "data": {
            "text/plain": [
              "<Figure size 2500x2000 with 4 Axes>"
            ],
            "image/png": "[encoded data removed]"
          },
          "metadata": {}
        }
      ]
    }
  ]
}